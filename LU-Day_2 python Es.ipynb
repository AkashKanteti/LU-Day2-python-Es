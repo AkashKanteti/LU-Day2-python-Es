{
 "cells": [
  {
   "cell_type": "markdown",
   "metadata": {},
   "source": [
    "# Day-2 python-Es LU Assignment"
   ]
  },
  {
   "cell_type": "markdown",
   "metadata": {},
   "source": [
    "1.Black slach\n",
    "A.continuation sign which is used say interpreter that we will continue in the next line"
   ]
  },
  {
   "cell_type": "code",
   "execution_count": 4,
   "metadata": {},
   "outputs": [
    {
     "name": "stdout",
     "output_type": "stream",
     "text": [
      "hellopython\n"
     ]
    }
   ],
   "source": [
    "print('hello\\\n",
    "python')"
   ]
  },
  {
   "cell_type": "markdown",
   "metadata": {},
   "source": [
    "2.Triple quote\n",
    "A.multiple adv\n",
    "-sql query\n",
    "-doc string used for documentation for company\n",
    "-This is used when we want to put some text art"
   ]
  },
  {
   "cell_type": "code",
   "execution_count": 7,
   "metadata": {},
   "outputs": [
    {
     "name": "stdout",
     "output_type": "stream",
     "text": [
      "░░▄███▄███▄\n",
      "░░█████████\n",
      "░░▒▀█████▀░\n",
      "░░▒░░▀█▀\n",
      "░░▒░░█░\n",
      "░░▒░█\n",
      "░░░█\n",
      "░░█░░░░███████\n",
      "░██░░░██▓▓███▓██▒\n",
      "██░░░█▓▓▓▓▓▓▓█▓████\n",
      "██░░██▓▓▓(◐)▓█▓█▓█\n",
      "███▓▓▓█▓▓▓▓▓█▓█▓▓▓▓█\n",
      "▀██▓▓█░██▓▓▓▓██▓▓▓▓▓█\n",
      "░▀██▀░░█▓▓▓▓▓▓▓▓▓▓▓▓▓█\n",
      "░░░░▒░░░█▓▓▓▓▓█▓▓▓▓▓▓█\n",
      "░░░░▒░░░█▓▓▓▓█▓█▓▓▓▓▓█\n",
      "░▒░░▒░░░█▓▓▓█▓▓▓█▓▓▓▓█\n",
      "░▒░░▒░░░█▓▓▓█░░░█▓▓▓█\n",
      "░▒░░▒░░██▓██░░░██▓▓██\n",
      "████████████████████████\n",
      "█▄─▄███─▄▄─█▄─█─▄█▄─▄▄─█\n",
      "██─██▀█─██─██─█─███─▄█▀█\n",
      "▀▄▄▄▄▄▀▄▄▄▄▀▀▄▄▄▀▀▄▄▄▄▄▀\n",
      "\n"
     ]
    }
   ],
   "source": [
    "print('''░░▄███▄███▄\n",
    "░░█████████\n",
    "░░▒▀█████▀░\n",
    "░░▒░░▀█▀\n",
    "░░▒░░█░\n",
    "░░▒░█\n",
    "░░░█\n",
    "░░█░░░░███████\n",
    "░██░░░██▓▓███▓██▒\n",
    "██░░░█▓▓▓▓▓▓▓█▓████\n",
    "██░░██▓▓▓(◐)▓█▓█▓█\n",
    "███▓▓▓█▓▓▓▓▓█▓█▓▓▓▓█\n",
    "▀██▓▓█░██▓▓▓▓██▓▓▓▓▓█\n",
    "░▀██▀░░█▓▓▓▓▓▓▓▓▓▓▓▓▓█\n",
    "░░░░▒░░░█▓▓▓▓▓█▓▓▓▓▓▓█\n",
    "░░░░▒░░░█▓▓▓▓█▓█▓▓▓▓▓█\n",
    "░▒░░▒░░░█▓▓▓█▓▓▓█▓▓▓▓█\n",
    "░▒░░▒░░░█▓▓▓█░░░█▓▓▓█\n",
    "░▒░░▒░░██▓██░░░██▓▓██\n",
    "████████████████████████\n",
    "█▄─▄███─▄▄─█▄─█─▄█▄─▄▄─█\n",
    "██─██▀█─██─██─█─███─▄█▀█\n",
    "▀▄▄▄▄▄▀▄▄▄▄▀▀▄▄▄▀▀▄▄▄▄▄▀\n",
    "''')"
   ]
  },
  {
   "cell_type": "code",
   "execution_count": 8,
   "metadata": {},
   "outputs": [
    {
     "data": {
      "text/plain": [
       "'░░▄███▄███▄\\n░░█████████\\n░░▒▀█████▀░\\n░░▒░░▀█▀\\n░░▒░░█░\\n░░▒░█\\n░░░█\\n░░█░░░░███████\\n░██░░░██▓▓███▓██▒\\n██░░░█▓▓▓▓▓▓▓█▓████\\n██░░██▓▓▓(◐)▓█▓█▓█\\n███▓▓▓█▓▓▓▓▓█▓█▓▓▓▓█\\n▀██▓▓█░██▓▓▓▓██▓▓▓▓▓█\\n░▀██▀░░█▓▓▓▓▓▓▓▓▓▓▓▓▓█\\n░░░░▒░░░█▓▓▓▓▓█▓▓▓▓▓▓█\\n░░░░▒░░░█▓▓▓▓█▓█▓▓▓▓▓█\\n░▒░░▒░░░█▓▓▓█▓▓▓█▓▓▓▓█\\n░▒░░▒░░░█▓▓▓█░░░█▓▓▓█\\n░▒░░▒░░██▓██░░░██▓▓██\\n████████████████████████\\n█▄─▄███─▄▄─█▄─█─▄█▄─▄▄─█\\n██─██▀█─██─██─█─███─▄█▀█\\n▀▄▄▄▄▄▀▄▄▄▄▀▀▄▄▄▀▀▄▄▄▄▄▀\\n'"
      ]
     },
     "execution_count": 8,
     "metadata": {},
     "output_type": "execute_result"
    }
   ],
   "source": [
    "'''░░▄███▄███▄\n",
    "░░█████████\n",
    "░░▒▀█████▀░\n",
    "░░▒░░▀█▀\n",
    "░░▒░░█░\n",
    "░░▒░█\n",
    "░░░█\n",
    "░░█░░░░███████\n",
    "░██░░░██▓▓███▓██▒\n",
    "██░░░█▓▓▓▓▓▓▓█▓████\n",
    "██░░██▓▓▓(◐)▓█▓█▓█\n",
    "███▓▓▓█▓▓▓▓▓█▓█▓▓▓▓█\n",
    "▀██▓▓█░██▓▓▓▓██▓▓▓▓▓█\n",
    "░▀██▀░░█▓▓▓▓▓▓▓▓▓▓▓▓▓█\n",
    "░░░░▒░░░█▓▓▓▓▓█▓▓▓▓▓▓█\n",
    "░░░░▒░░░█▓▓▓▓█▓█▓▓▓▓▓█\n",
    "░▒░░▒░░░█▓▓▓█▓▓▓█▓▓▓▓█\n",
    "░▒░░▒░░░█▓▓▓█░░░█▓▓▓█\n",
    "░▒░░▒░░██▓██░░░██▓▓██\n",
    "████████████████████████\n",
    "█▄─▄███─▄▄─█▄─█─▄█▄─▄▄─█\n",
    "██─██▀█─██─██─█─███─▄█▀█\n",
    "▀▄▄▄▄▄▀▄▄▄▄▀▀▄▄▄▀▀▄▄▄▄▄▀\n",
    "'''"
   ]
  },
  {
   "cell_type": "code",
   "execution_count": 12,
   "metadata": {},
   "outputs": [],
   "source": [
    "s='''akash is\n",
    "doh'''"
   ]
  },
  {
   "cell_type": "code",
   "execution_count": 13,
   "metadata": {},
   "outputs": [
    {
     "data": {
      "text/plain": [
       "'akash is\\ndoh'"
      ]
     },
     "execution_count": 13,
     "metadata": {},
     "output_type": "execute_result"
    }
   ],
   "source": [
    "s"
   ]
  },
  {
   "cell_type": "markdown",
   "metadata": {},
   "source": [
    "3.Escape sequence\n",
    "A.'\\n' is line seperator or new line creator or entrupeter\n",
    "'\\t' is tab\n",
    "'\\a' is alarm sound"
   ]
  },
  {
   "cell_type": "code",
   "execution_count": 16,
   "metadata": {},
   "outputs": [
    {
     "name": "stdout",
     "output_type": "stream",
     "text": [
      "akash\tabi\n"
     ]
    }
   ],
   "source": [
    "print('akash\\tabi')"
   ]
  },
  {
   "cell_type": "markdown",
   "metadata": {},
   "source": [
    "4.Formatted output\n",
    "A.used in sql query "
   ]
  },
  {
   "cell_type": "code",
   "execution_count": 21,
   "metadata": {},
   "outputs": [
    {
     "name": "stdout",
     "output_type": "stream",
     "text": [
      "name is    dj marks 123.200 age is 19\n"
     ]
    }
   ],
   "source": [
    "name='dj'\n",
    "age=19\n",
    "marks=123.2\n",
    "print('name is %5s marks %.3f age is %d'%(name,marks,age))\n",
    "#%10d for space\n",
    "#%.2f for float upto 2 decimals\n",
    "#f string version>=3.4"
   ]
  },
  {
   "cell_type": "markdown",
   "metadata": {},
   "source": [
    "5.Variables"
   ]
  },
  {
   "cell_type": "code",
   "execution_count": 40,
   "metadata": {},
   "outputs": [],
   "source": [
    "a=b=c=20"
   ]
  },
  {
   "cell_type": "code",
   "execution_count": 41,
   "metadata": {},
   "outputs": [
    {
     "data": {
      "text/plain": [
       "(20, 20, 20)"
      ]
     },
     "execution_count": 41,
     "metadata": {},
     "output_type": "execute_result"
    }
   ],
   "source": [
    "a,b,c"
   ]
  },
  {
   "cell_type": "markdown",
   "metadata": {},
   "source": [
    "A.interpreter assigns a memory address for 20 then a,b and c are referencing that address(20) if we del a the memory assigned to 20 will not be removed but the link was removed if we del b and c then 20 is del from memory by interpreter"
   ]
  },
  {
   "cell_type": "code",
   "execution_count": 42,
   "metadata": {},
   "outputs": [],
   "source": [
    "del a"
   ]
  },
  {
   "cell_type": "code",
   "execution_count": 43,
   "metadata": {},
   "outputs": [
    {
     "data": {
      "text/plain": [
       "140729869444080"
      ]
     },
     "execution_count": 43,
     "metadata": {},
     "output_type": "execute_result"
    }
   ],
   "source": [
    "id(20)"
   ]
  },
  {
   "cell_type": "code",
   "execution_count": 44,
   "metadata": {},
   "outputs": [
    {
     "data": {
      "text/plain": [
       "140729869444080"
      ]
     },
     "execution_count": 44,
     "metadata": {},
     "output_type": "execute_result"
    }
   ],
   "source": [
    "id(b)"
   ]
  },
  {
   "cell_type": "code",
   "execution_count": 45,
   "metadata": {},
   "outputs": [
    {
     "data": {
      "text/plain": [
       "140729869444080"
      ]
     },
     "execution_count": 45,
     "metadata": {},
     "output_type": "execute_result"
    }
   ],
   "source": [
    "id(c)"
   ]
  },
  {
   "cell_type": "code",
   "execution_count": 46,
   "metadata": {},
   "outputs": [],
   "source": [
    "del c"
   ]
  },
  {
   "cell_type": "code",
   "execution_count": 47,
   "metadata": {},
   "outputs": [
    {
     "data": {
      "text/plain": [
       "140729869444080"
      ]
     },
     "execution_count": 47,
     "metadata": {},
     "output_type": "execute_result"
    }
   ],
   "source": [
    "id(20)"
   ]
  },
  {
   "cell_type": "code",
   "execution_count": 48,
   "metadata": {},
   "outputs": [],
   "source": [
    "del b"
   ]
  },
  {
   "cell_type": "code",
   "execution_count": 49,
   "metadata": {},
   "outputs": [
    {
     "data": {
      "text/plain": [
       "140729869444080"
      ]
     },
     "execution_count": 49,
     "metadata": {},
     "output_type": "execute_result"
    }
   ],
   "source": [
    "id(20)"
   ]
  },
  {
   "cell_type": "code",
   "execution_count": 54,
   "metadata": {},
   "outputs": [],
   "source": [
    "_10=56#is allowed"
   ]
  },
  {
   "cell_type": "code",
   "execution_count": null,
   "metadata": {},
   "outputs": [],
   "source": []
  }
 ],
 "metadata": {
  "kernelspec": {
   "display_name": "Python 3",
   "language": "python",
   "name": "python3"
  },
  "language_info": {
   "codemirror_mode": {
    "name": "ipython",
    "version": 3
   },
   "file_extension": ".py",
   "mimetype": "text/x-python",
   "name": "python",
   "nbconvert_exporter": "python",
   "pygments_lexer": "ipython3",
   "version": "3.7.6"
  }
 },
 "nbformat": 4,
 "nbformat_minor": 4
}
